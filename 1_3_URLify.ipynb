{
  "nbformat": 4,
  "nbformat_minor": 0,
  "metadata": {
    "colab": {
      "provenance": [],
      "authorship_tag": "ABX9TyPKRrl55xgYkEk/LRpK+YYh",
      "include_colab_link": true
    },
    "kernelspec": {
      "name": "python3",
      "display_name": "Python 3"
    },
    "language_info": {
      "name": "python"
    }
  },
  "cells": [
    {
      "cell_type": "markdown",
      "metadata": {
        "id": "view-in-github",
        "colab_type": "text"
      },
      "source": [
        "<a href=\"https://colab.research.google.com/github/SVJLucas/Cracking-the-coding-interview/blob/main/1_3_URLify.ipynb\" target=\"_parent\"><img src=\"https://colab.research.google.com/assets/colab-badge.svg\" alt=\"Open In Colab\"/></a>"
      ]
    },
    {
      "cell_type": "markdown",
      "source": [
        "# Cracking the Coding Interview Solutions in Python\n",
        "\n",
        "Hey, welcome to the series!\n",
        "\n",
        "Hey, I'm Lucas! You could say I've been around the tech scene. I started my programming journey focusing on robotics software and did pretty well at the **Latin America Robotics Competition (LARC)**. Over time, I moved into software engineering through **Google Summer of Code (GSoC)** and later **led a Google Developer Student Club (GDSC)**, in France. So yeah, I've got some chops, and I'm stoked to dive into this coding adventure with you.\n",
        "\n",
        "We're diving into \"Cracking the Coding Interview,\" and I'll be sharing Python solutions to help you get ready for those interviews. You'll get the code, some straightforward explanations, and a bit about time complexity.\n",
        "\n",
        "For more of this content, **check out my GitHub** and don't forget to **connect with me on LinkedIn**:\n",
        "\n",
        "\n",
        "## Connect With Me\n",
        "<table>\n",
        "  <tr>\n",
        "    <td style=\"vertical-align: middle;\"><img src=\"https://drive.google.com/uc?export=view&id=1-lKl3FydoNpJ-CVK_va9EfdhgdyTj524\" width=\"20\" height=\"20\"></td>\n",
        "    <td style=\"vertical-align: middle;\"><a href=\"https://www.linkedin.com/in/lucasjosevelosodesouza/\">Lucas José Veloso de Souza on LinkedIn</a></td>\n",
        "  </tr>\n",
        "  <tr>\n",
        "    <td style=\"vertical-align: middle;\"><img src=\"https://drive.google.com/uc?export=view&id=1_zfEstMxAUTCjNhKHOlKcjczCgYgn7c_\" width=\"20\" height=\"20\"></td>\n",
        "    <td style=\"vertical-align: middle;\"><a href=\"https://github.com/SVJLucas/Cracking-the-coding-interview\">Cracking-the-coding-interview on GitHub</a></td>\n",
        "  </tr>\n",
        "</table>\n",
        "\n",
        "\n",
        "**Now, Let's get coding! 🔥**\n"
      ],
      "metadata": {
        "id": "S7NQbm_nJOsq"
      }
    },
    {
      "cell_type": "markdown",
      "source": [
        "# Chapter One: Arrays and Strings"
      ],
      "metadata": {
        "id": "vNJlLtzzVQ3C"
      }
    },
    {
      "cell_type": "markdown",
      "source": [
        "The chapter is a quick guide to the must-know data structures like arrays, strings, hash tables. It's not just about what they are, but how to use them smartly. And here's a pro tip from the chapter: questions about arrays and strings can often be used interchangeably in interviews. So mastering one can give you a head start on the other!"
      ],
      "metadata": {
        "id": "DOfkmjF1VUJC"
      }
    },
    {
      "cell_type": "markdown",
      "source": [
        "\n",
        "\n",
        "## Question 1.3 - URLify"
      ],
      "metadata": {
        "id": "Qg_cZFwROEvP"
      }
    },
    {
      "cell_type": "markdown",
      "source": [
        " > **URLify**: Write a method to replace all spaces in a string with '%20'. You may assume that the string has sufficient space at the end to hold the additional characters, and that you are given the \"true\" length of the string. (Note: if implementing in Java, please use a character array so that you can perform this operation in place.)\n"
      ],
      "metadata": {
        "id": "CquNaVlRWNZW"
      }
    },
    {
      "cell_type": "markdown",
      "source": [
        "### Best Conceivable Runtime (BCR)\n",
        "\n",
        "\n",
        "In this problem, we need to go through all $N$ characters of the string to replace each space with '%20'. Therefore, the best conceivable runtime for this problem is $O(N)$, where $N$ is the length of the string. We'll use this as a benchmark to evaluate the efficiency of our algorithm.\n"
      ],
      "metadata": {
        "id": "YNu9KroPWejY"
      }
    },
    {
      "cell_type": "markdown",
      "source": [
        "### Brute Force"
      ],
      "metadata": {
        "id": "YNIghHobKM0m"
      }
    },
    {
      "cell_type": "markdown",
      "source": [
        "A naive approach to this problem would be to create a new string and iterate through the original string character by character. Whenever we encounter a space, we append '%20' to the new string. Otherwise, we append the character itself:"
      ],
      "metadata": {
        "id": "ceVTqXaMKSva"
      }
    },
    {
      "cell_type": "code",
      "source": [
        "def urlify_string(string):\n",
        "  new_string = \"\"\n",
        "  for char in string:\n",
        "      if char == ' ':\n",
        "          new_string += '%20'\n",
        "      else:\n",
        "          new_string += char\n",
        "  return new_string"
      ],
      "metadata": {
        "id": "uHwDm9-AKSgH"
      },
      "execution_count": null,
      "outputs": []
    },
    {
      "cell_type": "markdown",
      "source": [
        "**Why is this approach inefficient?**\n",
        "\n",
        "In Python, **strings are immutable**, meaning that every time you concatenate two strings, a new string is created in memory. This operation takes time proportional to the length of the resulting string. If you concatenate a single character to a string $N$ times, the time complexity would sum up to $O(N^2)$, making this approach inefficient in terms of both time and space complexity."
      ],
      "metadata": {
        "id": "VPV_JSMdLCQi"
      }
    },
    {
      "cell_type": "markdown",
      "source": [
        "### Why is String Concatenation Inefficient?"
      ],
      "metadata": {
        "id": "9h69ABBiNA_D"
      }
    },
    {
      "cell_type": "markdown",
      "source": [
        "In Python, **strings are immutable**, which means that once a string is created, it cannot be changed. So, every time you concatenate two strings, a new string is created in memory to hold the result. This new string is a copy of the original strings, and this operation takes time proportional to the length of the resulting string and, then, $O(N)$."
      ],
      "metadata": {
        "id": "YDl-DnrDNZmf"
      }
    },
    {
      "cell_type": "markdown",
      "source": [
        "Let's consider a simple example where we concatenate a single character to a string $N$ times:\n",
        "\n",
        "\n",
        "\n",
        "\n",
        "\n",
        "```\n",
        "new_string = \"\"\n",
        "for char in string:\n",
        "    new_string += char\n",
        "```\n",
        "\n",
        "\n",
        "\n"
      ],
      "metadata": {
        "id": "uPe7jQW3NDon"
      }
    },
    {
      "cell_type": "markdown",
      "source": [
        "\n",
        "\n",
        "When you concatenate strings in a loop, the inefficiency arises from the way Python handles string immutability. Let's break down the time complexity:\n",
        "\n",
        "- The first time, you concatenate a string of length 1. This takes $O(1)$ time.\n",
        "- The second time, you concatenate a string of length 2. This takes $O(2)$ time.\n",
        "- The third time, you concatenate a string of length 3. This takes $O(3)$ time.\n",
        "- ...\n",
        "- The $N$-th time, you concatenate a string of length $N$. This takes $O(N)$ time.\n",
        "\n",
        "If you sum this up, you get:\n",
        "\n",
        "$\n",
        "1 + 2 + 3 + \\ldots + N = \\frac{N(N + 1)}{2}\n",
        "$\n",
        "\n",
        "This simplifies to $O(N^2)$, making the approach inefficient in terms of time complexity.\n"
      ],
      "metadata": {
        "id": "nxYxDTPkM4OY"
      }
    },
    {
      "cell_type": "markdown",
      "source": [
        "### Data Structure: List"
      ],
      "metadata": {
        "id": "vlFF3lR5OT5D"
      }
    },
    {
      "cell_type": "markdown",
      "source": [
        "\n",
        "To avoid the inefficiencies of string concatenation, we use a list to store the characters and the '%20' replacements. In Python, lists are dynamic arrays that can grow or shrink in size. They are useful for storing an ordered collection of items. Appending to a list is $O(1)$ on average, and **joining a list into a string is $O(N)$**."
      ],
      "metadata": {
        "id": "4V6SITLXOReI"
      }
    },
    {
      "cell_type": "markdown",
      "source": [
        "### Solution and Implementation"
      ],
      "metadata": {
        "id": "qweX1vV1j8GH"
      }
    },
    {
      "cell_type": "markdown",
      "source": [
        "Our final algorithm will use a list to store the characters and the '%20' replacements. We'll iterate through the string once, appending either the character or '%20' to the list as needed. Finally, we'll join the list into a string."
      ],
      "metadata": {
        "id": "G09CP4pvjXhH"
      }
    },
    {
      "cell_type": "code",
      "execution_count": 8,
      "metadata": {
        "id": "kWr60599IzKE"
      },
      "outputs": [],
      "source": [
        "def urlify_string(string):\n",
        "    # Initialize an empty list to build the URLified string.\n",
        "    # Appending to a list is an O(1) operation.\n",
        "    urlify = []\n",
        "\n",
        "    # Initialize a flag to track if we've found a blank space.\n",
        "    found_blank = False\n",
        "\n",
        "    # Loop through each character in the string.\n",
        "    # This loop runs in linear time, O(N), where N is the number of characters in the string.\n",
        "    for char in string:\n",
        "\n",
        "        # If the character is not a space, append it to the list.\n",
        "        if char != ' ':\n",
        "            # If we've found a blank space before this, append '%20' to the list.\n",
        "            if found_blank:\n",
        "                found_blank = False\n",
        "                urlify.append('%20')\n",
        "\n",
        "            # Append the current character to the list.\n",
        "            urlify.append(char)\n",
        "\n",
        "        # If the character is a space, set the flag to True.\n",
        "        else:\n",
        "            found_blank = True\n",
        "\n",
        "    # Join the list into a string. This is an O(N) operation.\n",
        "    return ''.join(urlify)\n",
        "\n",
        "# The final time complexity is O(N) + O(N) = O(N),\n",
        "# where N is the number of characters in the string."
      ]
    },
    {
      "cell_type": "code",
      "source": [
        "urlify_string(\"Mr John Smith       \")"
      ],
      "metadata": {
        "colab": {
          "base_uri": "https://localhost:8080/",
          "height": 36
        },
        "id": "LDg2My1Iz0fK",
        "outputId": "9b6785fb-c9ac-4360-b116-8fb4582b2c8a"
      },
      "execution_count": 9,
      "outputs": [
        {
          "output_type": "execute_result",
          "data": {
            "text/plain": [
              "'Mr%20John%20Smith'"
            ],
            "application/vnd.google.colaboratory.intrinsic+json": {
              "type": "string"
            }
          },
          "metadata": {},
          "execution_count": 9
        }
      ]
    },
    {
      "cell_type": "markdown",
      "source": [
        "The final algorithm has a time complexity of $O(N)$ and a space complexity of $O(N)$, which is optimal according to our BCR."
      ],
      "metadata": {
        "id": "Lhu8IxKP3iaU"
      }
    }
  ]
}