{
  "nbformat": 4,
  "nbformat_minor": 0,
  "metadata": {
    "colab": {
      "provenance": [],
      "authorship_tag": "ABX9TyPVZfSip68GWjFtsbmwOTKL",
      "include_colab_link": true
    },
    "kernelspec": {
      "name": "python3",
      "display_name": "Python 3"
    },
    "language_info": {
      "name": "python"
    }
  },
  "cells": [
    {
      "cell_type": "markdown",
      "metadata": {
        "id": "view-in-github",
        "colab_type": "text"
      },
      "source": [
        "<a href=\"https://colab.research.google.com/github/SVJLucas/Cracking-the-coding-interview/blob/main/1_2_Check_Permutation.ipynb\" target=\"_parent\"><img src=\"https://colab.research.google.com/assets/colab-badge.svg\" alt=\"Open In Colab\"/></a>"
      ]
    },
    {
      "cell_type": "markdown",
      "source": [
        "# Cracking the Coding Interview Solutions in Python\n",
        "\n",
        "Hey, welcome to the series!\n",
        "\n",
        "Hey, I'm Lucas! You could say I've been around the tech scene. I started my programming journey focusing on robotics software and did pretty well at the **Latin America Robotics Competition (LARC)**. Over time, I moved into software engineering through **Google Summer of Code (GSoC)** and later **led a Google Developer Student Club (GDSC)**, in France. So yeah, I've got some chops, and I'm stoked to dive into this coding adventure with you.\n",
        "\n",
        "We're diving into \"Cracking the Coding Interview,\" and I'll be sharing Python solutions to help you get ready for those interviews. You'll get the code, some straightforward explanations, and a bit about time complexity.\n",
        "\n",
        "For more of this content, **check out my GitHub** and don't forget to **connect with me on LinkedIn**:\n",
        "\n",
        "\n",
        "## Connect With Me\n",
        "<table>\n",
        "  <tr>\n",
        "    <td style=\"vertical-align: middle;\"><img src=\"https://drive.google.com/uc?export=view&id=1-lKl3FydoNpJ-CVK_va9EfdhgdyTj524\" width=\"20\" height=\"20\"></td>\n",
        "    <td style=\"vertical-align: middle;\"><a href=\"https://www.linkedin.com/in/lucasjosevelosodesouza/\">Lucas José Veloso de Souza on LinkedIn</a></td>\n",
        "  </tr>\n",
        "  <tr>\n",
        "    <td style=\"vertical-align: middle;\"><img src=\"https://drive.google.com/uc?export=view&id=1_zfEstMxAUTCjNhKHOlKcjczCgYgn7c_\" width=\"20\" height=\"20\"></td>\n",
        "    <td style=\"vertical-align: middle;\"><a href=\"https://github.com/SVJLucas/Cracking-the-coding-interview\">Cracking-the-coding-interview on GitHub</a></td>\n",
        "  </tr>\n",
        "</table>\n",
        "\n",
        "\n",
        "**Now, Let's get coding! 🔥**\n"
      ],
      "metadata": {
        "id": "S7NQbm_nJOsq"
      }
    },
    {
      "cell_type": "markdown",
      "source": [
        "# Chapter One: Arrays and Strings"
      ],
      "metadata": {
        "id": "vNJlLtzzVQ3C"
      }
    },
    {
      "cell_type": "markdown",
      "source": [
        "The chapter is a quick guide to the must-know data structures like arrays, strings, hash tables. It's not just about what they are, but how to use them smartly. And here's a pro tip from the chapter: questions about arrays and strings can often be used interchangeably in interviews. So mastering one can give you a head start on the other!"
      ],
      "metadata": {
        "id": "DOfkmjF1VUJC"
      }
    },
    {
      "cell_type": "markdown",
      "source": [
        "\n",
        "\n",
        "## Question 1.2 - Check Permutation"
      ],
      "metadata": {
        "id": "Qg_cZFwROEvP"
      }
    },
    {
      "cell_type": "markdown",
      "source": [
        " > **Check Permutation**: Given two strings, write a method to decide if one is a permutation of the\n",
        "other.\n"
      ],
      "metadata": {
        "id": "CquNaVlRWNZW"
      }
    },
    {
      "cell_type": "markdown",
      "source": [
        "### Best Conceivable Runtime (BCR)\n",
        "\n",
        "In this problem, we need to go through all $N$ characters of both strings to make sure they are a permutation of the other. In this sense, it's impossible to have a solution algorithm for this problem with a complexity lower than $O(N)$. We'll use this fact to gauge how close our algorithm is to the optimal solution.\n"
      ],
      "metadata": {
        "id": "YNu9KroPWejY"
      }
    },
    {
      "cell_type": "markdown",
      "source": [
        "### Solution and Implementation"
      ],
      "metadata": {
        "id": "qweX1vV1j8GH"
      }
    },
    {
      "cell_type": "markdown",
      "source": [
        "We have two sets of letters and we want to find out if one can be rearranged to form the other. To do this, we use two **dictionaries, which are super quick for both searching and updating values. Specifically, these operations take constant time, or $O(1)$, which means they are really fast regardless of the size of the set!!**\n",
        "\n",
        "In computer science terms, a dictionary is an hash-table data structure that pairs a 'key' with a 'value'. In our case, the 'key' is the letter from our set, and the 'value' is the number of times that letter appears. We go through each set, letter by letter, and update these counts in our dictionaries.\n",
        "\n",
        "After we've counted all the letters in both sets, we compare the dictionaries. If they match, that means one set can be rearranged to form the other. If not, they can't.\n",
        "\n",
        "Let's implementing:"
      ],
      "metadata": {
        "id": "G09CP4pvjXhH"
      }
    },
    {
      "cell_type": "code",
      "execution_count": 15,
      "metadata": {
        "id": "kWr60599IzKE"
      },
      "outputs": [],
      "source": [
        "def update_dict(char, dictionary):\n",
        "  # Update the count of a character in the dictionary.\n",
        "  # This is an O(1) operation, meaning it's super quick.\n",
        "  if char in dictionary:\n",
        "    # Increment the count of the character\n",
        "    dictionary[char] += 1\n",
        "  else:\n",
        "    # Initialize the count of the character to 1\n",
        "    dictionary[char] = 1\n",
        "  return dictionary\n",
        "\n",
        "def check_permutation(first_string, second_string):\n",
        "  # Check if the two strings can be rearranged to form each other.\n",
        "\n",
        "  # If the lengths of the strings are different or either is empty, they can't be permutations.\n",
        "  if len(first_string) != len(second_string) or len(first_string) == 0 or len(second_string) == 0:\n",
        "    return False\n",
        "\n",
        "  # Initialize dictionaries to hold the character counts.\n",
        "  first_dict = {}\n",
        "  second_dict = {}\n",
        "\n",
        "  # Loop through each character in both strings (O(N) operation)\n",
        "  for first_char, second_char in zip(first_string, second_string):\n",
        "    # Update the character count dictionaries (O(1) operation)\n",
        "    first_dict = update_dict(first_char, first_dict)\n",
        "    second_dict = update_dict(second_char, second_dict)\n",
        "\n",
        "  # Compare the dictionaries to see if they are identical.\n",
        "  # If they are, it means the strings are permutations of each other.\n",
        "  # This comparison takes O(N) time complexity.\n",
        "  if first_dict == second_dict:\n",
        "    return True  # The dictionaries match, so the strings are permutations.\n",
        "  else:\n",
        "    return False  # The dictionaries don't match, so the strings can't be permutations.\n",
        "\n",
        "# The final time complexity of the algorithm is O(N)*(O(1)+O(1))+O(N)=O(N).\n"
      ]
    },
    {
      "cell_type": "code",
      "source": [
        "check_permutation('aabcd','abadc')"
      ],
      "metadata": {
        "colab": {
          "base_uri": "https://localhost:8080/"
        },
        "id": "LDg2My1Iz0fK",
        "outputId": "f2d3b0c9-a332-4379-cf8e-0da1c318f5fb"
      },
      "execution_count": 16,
      "outputs": [
        {
          "output_type": "execute_result",
          "data": {
            "text/plain": [
              "True"
            ]
          },
          "metadata": {},
          "execution_count": 16
        }
      ]
    },
    {
      "cell_type": "code",
      "source": [
        "check_permutation('aabKd','abadc')"
      ],
      "metadata": {
        "colab": {
          "base_uri": "https://localhost:8080/"
        },
        "id": "St63N6hy4ITM",
        "outputId": "3eab6592-8dc8-49d9-8df0-078ac7dda765"
      },
      "execution_count": 17,
      "outputs": [
        {
          "output_type": "execute_result",
          "data": {
            "text/plain": [
              "False"
            ]
          },
          "metadata": {},
          "execution_count": 17
        }
      ]
    },
    {
      "cell_type": "markdown",
      "source": [
        "The reason this method is so efficient is because of the $O(1)$ time complexity for searching and updating values in a dictionary, making the overall time complexity of the algorithm  $O(N)$, where $N$ is the number of letters in the set. We can see we archived the BCR. Besides, our memory complexity is $O(N)$ as well, because we're storing the data in the dictionaries."
      ],
      "metadata": {
        "id": "Lhu8IxKP3iaU"
      }
    }
  ]
}