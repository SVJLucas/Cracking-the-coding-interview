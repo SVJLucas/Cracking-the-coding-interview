{
  "nbformat": 4,
  "nbformat_minor": 0,
  "metadata": {
    "colab": {
      "provenance": [],
      "authorship_tag": "ABX9TyN2ngO7H9QzodABFpJAnw3A",
      "include_colab_link": true
    },
    "kernelspec": {
      "name": "python3",
      "display_name": "Python 3"
    },
    "language_info": {
      "name": "python"
    }
  },
  "cells": [
    {
      "cell_type": "markdown",
      "metadata": {
        "id": "view-in-github",
        "colab_type": "text"
      },
      "source": [
        "<a href=\"https://colab.research.google.com/github/SVJLucas/Cracking-the-coding-interview/blob/main/1_1_Is_Unique.ipynb\" target=\"_parent\"><img src=\"https://colab.research.google.com/assets/colab-badge.svg\" alt=\"Open In Colab\"/></a>"
      ]
    },
    {
      "cell_type": "markdown",
      "source": [
        "# Cracking the Coding Interview Solutions in Python\n",
        "\n",
        "Hey, welcome to the series!\n",
        "\n",
        "Hey, I'm Lucas! You could say I've been around the tech scene. I started my programming journey focusing on robotics software and did pretty well at the **Latin America Robotics Competition (LARC)**. Over time, I moved into software engineering through **Google Summer of Code (GSoC)** and later **led a Google Developer Student Club (GDSC)**, in France. So yeah, I've got some chops, and I'm stoked to dive into this coding adventure with you.\n",
        "\n",
        "We're diving into \"Cracking the Coding Interview,\" and I'll be sharing Python solutions to help you get ready for those interviews. You'll get the code, some straightforward explanations, and a bit about time complexity.\n",
        "\n",
        "For more of this content, **check out my GitHub** and don't forget to **connect with me on LinkedIn**:\n",
        "\n",
        "\n",
        "## Connect With Me\n",
        "<table>\n",
        "  <tr>\n",
        "    <td style=\"vertical-align: middle;\"><img src=\"https://drive.google.com/uc?export=view&id=1-lKl3FydoNpJ-CVK_va9EfdhgdyTj524\" width=\"20\" height=\"20\"></td>\n",
        "    <td style=\"vertical-align: middle;\"><a href=\"https://www.linkedin.com/in/lucasjosevelosodesouza/\">Lucas José Veloso de Souza on LinkedIn</a></td>\n",
        "  </tr>\n",
        "  <tr>\n",
        "    <td style=\"vertical-align: middle;\"><img src=\"https://drive.google.com/uc?export=view&id=1_zfEstMxAUTCjNhKHOlKcjczCgYgn7c_\" width=\"20\" height=\"20\"></td>\n",
        "    <td style=\"vertical-align: middle;\"><a href=\"https://github.com/SVJLucas/Cracking-the-coding-interview\">Cracking-the-coding-interview on GitHub</a></td>\n",
        "  </tr>\n",
        "</table>\n",
        "\n",
        "\n",
        "**Now, Let's get coding! 🔥**\n"
      ],
      "metadata": {
        "id": "S7NQbm_nJOsq"
      }
    },
    {
      "cell_type": "markdown",
      "source": [
        "# Chapter One: Arrays and Strings"
      ],
      "metadata": {
        "id": "vNJlLtzzVQ3C"
      }
    },
    {
      "cell_type": "markdown",
      "source": [
        "The chapter is a quick guide to the must-know data structures like arrays, strings, hash tables. It's not just about what they are, but how to use them smartly. And here's a pro tip from the chapter: questions about arrays and strings can often be used interchangeably in interviews. So mastering one can give you a head start on the other!"
      ],
      "metadata": {
        "id": "DOfkmjF1VUJC"
      }
    },
    {
      "cell_type": "markdown",
      "source": [
        "## Question 1.1 - Is Unique"
      ],
      "metadata": {
        "id": "Qg_cZFwROEvP"
      }
    },
    {
      "cell_type": "markdown",
      "source": [
        " > **Is Unique**: Implement an algorithm to determine if a string has all unique characters. What if you cannot use additional data structures?\n"
      ],
      "metadata": {
        "id": "CquNaVlRWNZW"
      }
    },
    {
      "cell_type": "markdown",
      "source": [
        "### Best Conceivable Runtime (BCR)\n",
        "\n",
        "In this problem, we need to go through all $N$ characters of the string to make sure there are no repeated characters. In this sense, it's impossible to have a solution algorithm for this problem with a complexity lower than $O(N)$. We'll use this fact to gauge how close our algorithm is to the optimal solution.\n"
      ],
      "metadata": {
        "id": "YNu9KroPWejY"
      }
    },
    {
      "cell_type": "markdown",
      "source": [
        "### Brute Force"
      ],
      "metadata": {
        "id": "KQ3nR-efefT0"
      }
    },
    {
      "cell_type": "markdown",
      "source": [
        "Let's develop an algorithm that can solve the problem, and then, we'll improve the solution.\n",
        "\n",
        "A brute-force algorithm for this problem would be to go through each character and scan the entire string to see if that character appears in any position other than its own. In pseudocode, we would have:\n",
        "\n",
        "```\n",
        "# This loop has O(N) complexity\n",
        "For i in range(len(string)):\n",
        "  # Search for the i-th char in the string. This loop has O(N) operations\n",
        "  For j in range(len(string)):\n",
        "    If string[i] == string[j] and i != j:\n",
        "      return False\n",
        "return True\n",
        "```\n",
        "\n",
        "This algorithm has a complexity of $O(N^2)$. The bottleneck of this algorithm is the inner loop, as our search/check for repetition is done in $O(N)$ time.\n",
        "\n",
        "Since we already know that the Best Conceivable Runtime (BCR) is $O(N)$, we need to make our search $O(1)$ to achieve the best time.\n"
      ],
      "metadata": {
        "id": "gw_5YAUBerII"
      }
    },
    {
      "cell_type": "markdown",
      "source": [
        "### Uniqueness"
      ],
      "metadata": {
        "id": "IdbvJvYojP5W"
      }
    },
    {
      "cell_type": "markdown",
      "source": [
        "**Uniqueness in Python should immediately bring to mind the concept of Sets**. Sets are collections of unique elements, which justifies why they're associated with uniqueness. A major advantage of using Sets in Python is that checking for the presence of an element is $O(1)$ in time, as is adding a new element! We can leverage these properties to create an efficient algorithm for the problem at hand."
      ],
      "metadata": {
        "id": "u3-G6HEsdhET"
      }
    },
    {
      "cell_type": "markdown",
      "source": [
        "### Optimization and Implementation"
      ],
      "metadata": {
        "id": "qweX1vV1j8GH"
      }
    },
    {
      "cell_type": "markdown",
      "source": [
        "Our final idea for the algorithm is to use the following strategy. We'll take advantage of the fact that we want unique characters and place them into a set as we iterate through the string. Since lookup in sets is $O(1)$, our algorithm will be able to meet the Best Conceivable Runtime (BCR).\n"
      ],
      "metadata": {
        "id": "G09CP4pvjXhH"
      }
    },
    {
      "cell_type": "code",
      "execution_count": 25,
      "metadata": {
        "id": "kWr60599IzKE"
      },
      "outputs": [],
      "source": [
        "def is_unique(string):\n",
        "    # Initialize an empty set to keep track of unique characters.\n",
        "    # Sets are super quick for both searching and updating values.\n",
        "    # Specifically, these operations take constant time, or O(1).\n",
        "    unique_set = set()\n",
        "\n",
        "    # Loop through each character in the string.\n",
        "    # This loop runs in linear time, O(N), where n is the number of characters in the string.\n",
        "    for char in string:\n",
        "\n",
        "        # Check if this character has appeared before.\n",
        "        # This is a constant-time search, O(1), thanks to the set data structure.\n",
        "        if char in unique_set:\n",
        "            return False  # Character is repeated, string is not unique.\n",
        "        else:\n",
        "            # Add this character to the set, marking it as seen.\n",
        "            # Adding an element to a set is also a constant-time operation, O(1).\n",
        "            unique_set.add(char)\n",
        "\n",
        "    return True  # All characters are unique.\n",
        "\n",
        "# The final time complexity is O(N) * O(1) = O(N),\n",
        "# where N is the number of characters in the string.\n"
      ]
    },
    {
      "cell_type": "markdown",
      "source": [
        "The final algorithm we developed has a time complexity of $O(N)$. However, our space complexity is also $O(N)$. Can we improve the space complexity while maintaining the time complexity?\n"
      ],
      "metadata": {
        "id": "psUuWgW3kg8-"
      }
    },
    {
      "cell_type": "markdown",
      "source": [
        "### Without additional data structures"
      ],
      "metadata": {
        "id": "X2rnzfrpncPj"
      }
    },
    {
      "cell_type": "markdown",
      "source": [
        "Since the English alphabet has only 26 characters, we can actually build our own set using just a single integer in Python! A Python integer has 32 bits, so we can associate each letter of the alphabet with a specific bit position in that integer. We can then use this integer as a sort of lookup table/buffer, essentially using it as our data structure. When a character appears in the string, we set the corresponding bit to 1. If that same character appears again, we'll notice that its associated bit is already set, and we can immediately return false.\n",
        "\n",
        "This way, we're leveraging the bit-level representation to create a highly efficient custom set, achieving both $O(N)$ time complexity and $O(1)$ space complexity."
      ],
      "metadata": {
        "id": "OSUuS_zAoWkK"
      }
    },
    {
      "cell_type": "code",
      "source": [
        "def set_value_one_to_bit_at_index_i(i, buffer):\n",
        "    # Set the bit at the ith position to 1 in the buffer.\n",
        "    # This operation takes constant time, O(1).\n",
        "    buffer = buffer | (1 << i)\n",
        "    return buffer\n",
        "\n",
        "def get_value_of_bit_at_index_i(i, buffer):\n",
        "    # Retrieve the value of the bit at the ith position in the buffer.\n",
        "    # This operation also takes constant time, O(1).\n",
        "    value = (buffer >> i) & 1\n",
        "    return value\n",
        "\n",
        "def is_unique(string):\n",
        "    buffer_table = 0\n",
        "    # Loop through each character in the string.\n",
        "    # This takes linear time, O(n), where n is the number of characters in the string.\n",
        "    for char in string:\n",
        "\n",
        "        # Convert the character to its ASCII value.\n",
        "        char_ascii_index = ord(char)\n",
        "\n",
        "        # Normalize the ASCII value relative to 'a' to fit within our 32-bit integer.\n",
        "        char_ascii_relative_index = char_ascii_index - ord('a')\n",
        "\n",
        "        # Check if this character has appeared before.\n",
        "        # This is a constant-time search, O(1).\n",
        "        if get_value_of_bit_at_index_i(char_ascii_relative_index, buffer_table):\n",
        "            return False  # Character is repeated, string is not unique.\n",
        "        else:\n",
        "            # Mark this character as seen.\n",
        "            buffer_table = set_value_one_to_bit_at_index_i(char_ascii_relative_index, buffer_table)\n",
        "\n",
        "    return True  # All characters are unique.\n"
      ],
      "metadata": {
        "id": "C2Jl8kQQcWkk"
      },
      "execution_count": null,
      "outputs": []
    },
    {
      "cell_type": "code",
      "source": [
        "is_unique('abbc')"
      ],
      "metadata": {
        "colab": {
          "base_uri": "https://localhost:8080/"
        },
        "id": "sGwXTq75mRG8",
        "outputId": "4fe56244-648e-4444-f96b-3f0be32fd09c"
      },
      "execution_count": null,
      "outputs": [
        {
          "output_type": "execute_result",
          "data": {
            "text/plain": [
              "False"
            ]
          },
          "metadata": {},
          "execution_count": 23
        }
      ]
    },
    {
      "cell_type": "code",
      "source": [
        "is_unique('abcd')"
      ],
      "metadata": {
        "colab": {
          "base_uri": "https://localhost:8080/"
        },
        "id": "6FI7tFsps4R9",
        "outputId": "f64d889d-4196-404a-a3a0-296b6bb9d6be"
      },
      "execution_count": null,
      "outputs": [
        {
          "output_type": "execute_result",
          "data": {
            "text/plain": [
              "True"
            ]
          },
          "metadata": {},
          "execution_count": 24
        }
      ]
    }
  ]
}